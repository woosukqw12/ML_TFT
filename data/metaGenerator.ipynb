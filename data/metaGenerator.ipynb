{
 "cells": [
  {
   "cell_type": "code",
   "execution_count": 24,
   "metadata": {},
   "outputs": [],
   "source": [
    "import csv\n",
    "import json\n",
    "from pprint import pprint\n",
    "import pandas as pd"
   ]
  },
  {
   "cell_type": "code",
   "execution_count": null,
   "metadata": {},
   "outputs": [],
   "source": [
    "# 중복, 패치버전, 게임 타입(standard만 남기기)\n",
    "\n",
    "f = pd.read_csv('./match_data/temp_ch_2022-11-10.csv')\n",
    "print(type(f))\n",
    "\n",
    "a = f.sort_values(by=['info.game_version'], ascending=True).reset_index()\n",
    "# a.to_csv('sorted_temp2.csv')\n",
    "a = a.drop_duplicates() # dup delete\n",
    "a = a.truncate(before=1071, axis=0).reset_index()\n",
    "a.to_csv('sorted_temp2.csv')"
   ]
  },
  {
   "cell_type": "code",
   "execution_count": null,
   "metadata": {},
   "outputs": [],
   "source": [
    "rdr = csv.DictReader(f)\n",
    "\n",
    "item_set = set()\n",
    "augment_set = set()\n",
    "trait_set = set()\n",
    "\n",
    "Combination_Item = ['TFT_Item_B.F.Sword', 'TFT_Item_BFSword', 'TFT_Item_ChainVest', 'TFT_Item_GiantsBelt', \n",
    "'TFT_Item_NeedlesslyLargeRod', 'TFT_Item_NegatronCloak', 'TFT_Item_RecurveBow', 'TFT_Item_SparringGloves', \n",
    "'TFT_Item_Spatula', 'TFT_Item_TearOfTheGoddess']\n",
    "\n",
    "for i in rdr:\n",
    "    _dict = json.loads(i['info.participants'].replace(\"'\", \"\\\"\"))\n",
    "    # print(_dict)\n",
    "    # break\n",
    "    for j in _dict:\n",
    "        # trait\n",
    "        for k in j['traits']:\n",
    "            trait_set.add(k['name'] + str(k['style']))\n",
    "\n",
    "        # item\n",
    "        for h in j['units']:\n",
    "            if h['itemNames'] != []:\n",
    "                item_list = h['itemNames']\n",
    "                if 'TFT_Item_ThiefsGloves' in item_list:\n",
    "                    item_set.add('TFT_Item_ThiefsGloves')\n",
    "                    break\n",
    "                \n",
    "                for item in item_list:\n",
    "                    if item not in Combination_Item:\n",
    "                        item_set.add(item)\n",
    "                        \n",
    "        # augment\n",
    "        for aug in j['augments']:\n",
    "            augment_set.add(aug)\n",
    "print('[item set]\\n')\n",
    "pprint(item_set)\n",
    "\n",
    "print('[trait set]\\n')\n",
    "pprint(trait_set)\n",
    "\n",
    "print('[augment set]\\n')\n",
    "pprint(augment_set)"
   ]
  }
 ],
 "metadata": {
  "kernelspec": {
   "display_name": "Python 3.10.6 64-bit",
   "language": "python",
   "name": "python3"
  },
  "language_info": {
   "codemirror_mode": {
    "name": "ipython",
    "version": 3
   },
   "file_extension": ".py",
   "mimetype": "text/x-python",
   "name": "python",
   "nbconvert_exporter": "python",
   "pygments_lexer": "ipython3",
   "version": "3.10.6"
  },
  "orig_nbformat": 4,
  "vscode": {
   "interpreter": {
    "hash": "1cb0154952d83feb401af1b33c467dc3b1fba1e607a14b1e7b1a2591933b4969"
   }
  }
 },
 "nbformat": 4,
 "nbformat_minor": 2
}
