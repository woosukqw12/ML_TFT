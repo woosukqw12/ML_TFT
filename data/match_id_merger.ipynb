{
 "cells": [
  {
   "cell_type": "code",
   "execution_count": 32,
   "metadata": {},
   "outputs": [],
   "source": [
    "import csv\n",
    "import json\n",
    "from pprint import pprint\n",
    "import pandas as pd\n",
    "from pandas import json_normalize\n",
    "import pickle\n",
    "from time import sleep\n",
    "import requests"
   ]
  },
  {
   "cell_type": "code",
   "execution_count": 33,
   "metadata": {},
   "outputs": [
    {
     "ename": "FileNotFoundError",
     "evalue": "[Errno 2] No such file or directory: './APIkey.txt'",
     "output_type": "error",
     "traceback": [
      "\u001b[1;31m---------------------------------------------------------------------------\u001b[0m",
      "\u001b[1;31mFileNotFoundError\u001b[0m                         Traceback (most recent call last)",
      "Cell \u001b[1;32mIn [33], line 1\u001b[0m\n\u001b[1;32m----> 1\u001b[0m key \u001b[39m=\u001b[39m \u001b[39mopen\u001b[39;49m(\u001b[39m'\u001b[39;49m\u001b[39m./APIkey.txt\u001b[39;49m\u001b[39m'\u001b[39;49m, \u001b[39m\"\u001b[39;49m\u001b[39mr\u001b[39;49m\u001b[39m\"\u001b[39;49m)\u001b[39m.\u001b[39mreadline()\n",
      "File \u001b[1;32m~\\AppData\\Roaming\\Python\\Python310\\site-packages\\IPython\\core\\interactiveshell.py:282\u001b[0m, in \u001b[0;36m_modified_open\u001b[1;34m(file, *args, **kwargs)\u001b[0m\n\u001b[0;32m    275\u001b[0m \u001b[39mif\u001b[39;00m file \u001b[39min\u001b[39;00m {\u001b[39m0\u001b[39m, \u001b[39m1\u001b[39m, \u001b[39m2\u001b[39m}:\n\u001b[0;32m    276\u001b[0m     \u001b[39mraise\u001b[39;00m \u001b[39mValueError\u001b[39;00m(\n\u001b[0;32m    277\u001b[0m         \u001b[39mf\u001b[39m\u001b[39m\"\u001b[39m\u001b[39mIPython won\u001b[39m\u001b[39m'\u001b[39m\u001b[39mt let you open fd=\u001b[39m\u001b[39m{\u001b[39;00mfile\u001b[39m}\u001b[39;00m\u001b[39m by default \u001b[39m\u001b[39m\"\u001b[39m\n\u001b[0;32m    278\u001b[0m         \u001b[39m\"\u001b[39m\u001b[39mas it is likely to crash IPython. If you know what you are doing, \u001b[39m\u001b[39m\"\u001b[39m\n\u001b[0;32m    279\u001b[0m         \u001b[39m\"\u001b[39m\u001b[39myou can use builtins\u001b[39m\u001b[39m'\u001b[39m\u001b[39m open.\u001b[39m\u001b[39m\"\u001b[39m\n\u001b[0;32m    280\u001b[0m     )\n\u001b[1;32m--> 282\u001b[0m \u001b[39mreturn\u001b[39;00m io_open(file, \u001b[39m*\u001b[39margs, \u001b[39m*\u001b[39m\u001b[39m*\u001b[39mkwargs)\n",
      "\u001b[1;31mFileNotFoundError\u001b[0m: [Errno 2] No such file or directory: './APIkey.txt'"
     ]
    }
   ],
   "source": [
    "key = open(\"./APIkey.txt\", \"r\").readline()"
   ]
  },
  {
   "cell_type": "code",
   "execution_count": 34,
   "metadata": {},
   "outputs": [],
   "source": [
    "def get_matchid(puuid, key, n, region=\"asia\"):\n",
    "    matchid = []\n",
    "    step = 0\n",
    "    for i in puuid:\n",
    "        step += 1\n",
    "        try:\n",
    "            request = requests.get(\n",
    "                f\"https://{region}.api.riotgames.com/tft/match/v1/matches/by-puuid/{i}/ids?count={n}&api_key={key}\",\n",
    "                timeout=5,\n",
    "            )\n",
    "        except requests.Timeout:\n",
    "            for i in range(5):\n",
    "                try:\n",
    "                    request = requests.get(\n",
    "                        f\"https://{region}.api.riotgames.com/tft/match/v1/matches/by-puuid/{i}/ids?count={n}&api_key={key}\",\n",
    "                        timeout=5,\n",
    "                    )\n",
    "                    break\n",
    "                except requests.Timeout:\n",
    "                    pass\n",
    "\n",
    "        if request.status_code == 429:\n",
    "            print(\"Rate limit exceeded!\")\n",
    "            sleep(120)\n",
    "            try:\n",
    "                request = requests.get(\n",
    "                    f\"https://{region}.api.riotgames.com/tft/match/v1/matches/by-puuid/{i}/ids?count={n}&api_key={key}\",\n",
    "                    timeout=5,\n",
    "                )\n",
    "            except requests.Timeout:\n",
    "                request = requests.get(\n",
    "                    f\"https://{region}.api.riotgames.com/tft/match/v1/matches/by-puuid/{i}/ids?count={n}&api_key={key}\",\n",
    "                    timeout=5,\n",
    "                )\n",
    "        request = json.loads(request.content)\n",
    "        print(request)\n",
    "        matchid.extend(request)\n",
    "        print(f\"step {step} done!\")\n",
    "    return list(set(matchid))\n",
    "\n",
    "def match_info(match_id, key, region='asia'):\n",
    "    global game_record\n",
    "    for i in match_id:\n",
    "        try:\n",
    "            request = requests.get(f'https://{region}.api.riotgames.com/tft/match/v1/matches/{i}?api_key={key}', timeout=5,)\n",
    "        except requests.Timeout:\n",
    "            for i in range(5):\n",
    "                try:\n",
    "                    request = requests.get(f'https://{region}.api.riotgames.com/tft/match/v1/matches/{i}?api_key={key}', timeout=5,)\n",
    "                    break\n",
    "                except requests.Timeout:\n",
    "                    pass\n",
    "\n",
    "        if request.status_code == 429:\n",
    "            print(\"Rate limit exceeded!\")\n",
    "            sleep(120)\n",
    "            try:\n",
    "                request = requests.get(f'https://{region}.api.riotgames.com/tft/match/v1/matches/{i}?api_key={key}', timeout=5,)\n",
    "            except requests.Timeout:\n",
    "                request = requests.get(f'https://{region}.api.riotgames.com/tft/match/v1/matches/{i}?api_key={key}', timeout=5,)\n",
    "\n",
    "        request = json.load(request.content)\n",
    "        request = json_normalize(request)\n",
    "        game_record = pd.concat([game_record, request])\n",
    "\n",
    "    return game_record\n",
    "        "
   ]
  },
  {
   "cell_type": "code",
   "execution_count": 27,
   "metadata": {},
   "outputs": [
    {
     "name": "stdout",
     "output_type": "stream",
     "text": [
      "3626\n"
     ]
    }
   ],
   "source": [
    "with open(f\"./match_id/matchid_{i}.pickle\", \"rb\") as f:\n",
    "    match_id = pickle.load(f)\n",
    "\n",
    "print(len(match_id))"
   ]
  },
  {
   "cell_type": "code",
   "execution_count": 29,
   "metadata": {},
   "outputs": [
    {
     "name": "stdout",
     "output_type": "stream",
     "text": [
      "90286\n"
     ]
    }
   ],
   "source": [
    "matchId_list = []\n",
    "\n",
    "for i in range(0, 27):\n",
    "    with open(f\"./match_id/matchid_{i}.pickle\", \"rb\") as f:\n",
    "        match_id = pickle.load(f)\n",
    "    matchId_list.extend(match_id)\n",
    "\n",
    "matchId_list = list(set(matchId_list))\n",
    "matchId_list.sort()\n",
    "matchId_list = matchId_list[matchId_list.index('KR_6197579703'):]\n",
    "print(len(matchId_list))\n",
    "\n",
    "for i in range(1, 30):\n",
    "    with open(f\"./merged_match_id/match_id{i}.pickle\", \"wb\") as f:\n",
    "        pickle.dump(matchId_list[:i*1000], f)\n",
    "with open(f\"./merged_match_id/match_id{30}.pickle\", \"wb\") as f:\n",
    "        pickle.dump(matchId_list[29001:], f)\n"
   ]
  },
  {
   "cell_type": "code",
   "execution_count": 35,
   "metadata": {},
   "outputs": [
    {
     "ename": "NameError",
     "evalue": "name 'key' is not defined",
     "output_type": "error",
     "traceback": [
      "\u001b[1;31m---------------------------------------------------------------------------\u001b[0m",
      "\u001b[1;31mNameError\u001b[0m                                 Traceback (most recent call last)",
      "Cell \u001b[1;32mIn [35], line 5\u001b[0m\n\u001b[0;32m      3\u001b[0m \u001b[39mwith\u001b[39;00m \u001b[39mopen\u001b[39m(\u001b[39mf\u001b[39m\u001b[39m\"\u001b[39m\u001b[39m./match_id/matchid_1.pickle\u001b[39m\u001b[39m\"\u001b[39m, \u001b[39m\"\u001b[39m\u001b[39mrb\u001b[39m\u001b[39m\"\u001b[39m) \u001b[39mas\u001b[39;00m f:\n\u001b[0;32m      4\u001b[0m     match_id \u001b[39m=\u001b[39m pickle\u001b[39m.\u001b[39mload(f)\n\u001b[1;32m----> 5\u001b[0m res \u001b[39m=\u001b[39m match_info(match_id, key)\n\u001b[0;32m      7\u001b[0m \u001b[39mwith\u001b[39;00m \u001b[39mopen\u001b[39m(\u001b[39mf\u001b[39m\u001b[39m\"\u001b[39m\u001b[39m./match_data/match_info1.pickle\u001b[39m\u001b[39m\"\u001b[39m, \u001b[39m\"\u001b[39m\u001b[39mwb\u001b[39m\u001b[39m\"\u001b[39m) \u001b[39mas\u001b[39;00m f:\n\u001b[0;32m      8\u001b[0m     pickle\u001b[39m.\u001b[39mdump(res, f)\n",
      "\u001b[1;31mNameError\u001b[0m: name 'key' is not defined"
     ]
    }
   ],
   "source": [
    "game_record = pd.DataFrame()\n",
    "\n",
    "with open(f\"./match_id/matchid_1.pickle\", \"rb\") as f:\n",
    "    match_id = pickle.load(f)\n",
    "res = match_info(match_id, key)\n",
    "\n",
    "with open(f\"./match_data/match_info1.pickle\", \"wb\") as f:\n",
    "    pickle.dump(res, f)\n",
    "res.to_csv('match_info1.csv')"
   ]
  },
  {
   "cell_type": "code",
   "execution_count": null,
   "metadata": {},
   "outputs": [],
   "source": []
  }
 ],
 "metadata": {
  "kernelspec": {
   "display_name": "Python 3.9.8 64-bit",
   "language": "python",
   "name": "python3"
  },
  "language_info": {
   "codemirror_mode": {
    "name": "ipython",
    "version": 3
   },
   "file_extension": ".py",
   "mimetype": "text/x-python",
   "name": "python",
   "nbconvert_exporter": "python",
   "pygments_lexer": "ipython3",
   "version": "3.9.8"
  },
  "orig_nbformat": 4,
  "vscode": {
   "interpreter": {
    "hash": "1eb71e714c2a1bbfc91d3a1ed02399b846367c62fca82a5b3a9325d7b60709de"
   }
  }
 },
 "nbformat": 4,
 "nbformat_minor": 2
}
