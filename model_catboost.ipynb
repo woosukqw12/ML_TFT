{
 "cells": [
  {
   "cell_type": "code",
   "execution_count": 1,
   "metadata": {},
   "outputs": [],
   "source": [
    "# # https://catboost.ai/en/docs/concepts/python-reference_catboost\n",
    "\n",
    "# 증강체 등급 구별\n",
    "\n",
    "from catboost import CatBoostRegressor, CatBoostClassifier, Pool\n",
    "import pandas as pd\n",
    "from encoder import ordered_target_encoding, multi_hot_encoding\n",
    "from datetime import datetime\n",
    "import pytz\n",
    "import utils\n",
    "\n",
    "time = datetime.now(pytz.timezone(\"Asia/Seoul\")).strftime(\"%Y%m%d_%H%M%S\")\n",
    "df = pd.read_pickle(\"./data/match_data/match_data.pickle\")\n",
    "\n",
    "# delete 404 and pairs & turbo mode\n",
    "df = df[df[\"status.status_code\"].isna()]\n",
    "df = df[df[\"info.tft_game_type\"] == \"standard\"]\n",
    "print(len(df))\n",
    "\n",
    "X, label, X_raw = ordered_target_encoding(df)\n",
    "assert len(X) == len(label)\n",
    "train_X, valid_X, test_X = utils.split_data(X)\n",
    "train_label, valid_label, test_label = utils.split_data(label)\n",
    "train_X_raw, valid_X_raw, test_X_raw = utils.split_data(X_raw)\n",
    "\n",
    "\n",
    "train_data = Pool(data=train_X, label=train_label)\n",
    "valid_data = Pool(data=valid_X, label=valid_label)\n",
    "test_data = Pool(data=test_X, label=test_label)\n",
    "# default lr = 0.03\n",
    "model = CatBoostRegressor(iterations=5000, task_type=\"GPU\")\n",
    "# x_train, x_val = X[:int(len(X)/2)], X[int(len(X)/2):]\n",
    "# y_train, y_val = label[:int(len(X)/2)], label[int(len(X)/2):]\n",
    "# model.fit(x_train, y_train,cat_features=list(range(len(MetaData_item))),\n",
    "#           eval_set=(x_val, y_val))\n",
    "print(\"Train Start!\")\n",
    "model.fit(train_data, eval_set=valid_data, plot=True)\n",
    "print(model.get_best_iteration())\n",
    "print(model.get_best_score())\n",
    "preds_rank = model.predict(test_X)\n",
    "print(preds_rank[:30])\n",
    "print(test_X_raw[:30])\n",
    "print(test_label[:30])\n",
    "\n",
    "model.save_model(f\"./models/catboost_{time}.cbm\")"
   ]
  }
 ],
 "metadata": {
  "kernelspec": {
   "display_name": "Python 3",
   "language": "python",
   "name": "python3"
  },
  "language_info": {
   "codemirror_mode": {
    "name": "ipython",
    "version": 3
   },
   "file_extension": ".py",
   "mimetype": "text/x-python",
   "name": "python",
   "nbconvert_exporter": "python",
   "pygments_lexer": "ipython3",
   "version": "3.8.5 (tags/v3.8.5:580fbb0, Jul 20 2020, 15:57:54) [MSC v.1924 64 bit (AMD64)]"
  },
  "orig_nbformat": 4,
  "vscode": {
   "interpreter": {
    "hash": "98acaf91ddbce6cb9a82f0b57182e66e973be226e5e34165ccd8742de3431403"
   }
  }
 },
 "nbformat": 4,
 "nbformat_minor": 2
}
